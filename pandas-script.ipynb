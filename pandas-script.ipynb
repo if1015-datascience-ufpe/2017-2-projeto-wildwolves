{
 "cells": [
  {
   "cell_type": "code",
   "execution_count": 30,
   "metadata": {
    "collapsed": true
   },
   "outputs": [],
   "source": [
    "import pandas as pd\n",
    "import numpy as np\n",
    "from bs4 import BeautifulSoup\n",
    "import requests as rq\n",
    "from github import Github, GithubException\n",
    "import time\n",
    "from shutil import copyfile\n",
    "from pymongo import MongoClient\n",
    "import re\n",
    "from bson.objectid import ObjectId\n",
    "import pprint"
   ]
  },
  {
   "cell_type": "code",
   "execution_count": 2,
   "metadata": {
    "collapsed": true
   },
   "outputs": [],
   "source": [
    "client = MongoClient()\n",
    "db = client['repos-database']\n",
    "dockers = db['docker_repos']"
   ]
  },
  {
   "cell_type": "code",
   "execution_count": 40,
   "metadata": {},
   "outputs": [
    {
     "name": "stdout",
     "output_type": "stream",
     "text": [
      "         Data Criação         Data Update  \\\n",
      "0 2016-11-25 20:25:47 2016-11-25 20:25:50   \n",
      "\n",
      "                                          Dockerfile  \\\n",
      "0  {'FROM': ['microsoft/dotnet:latest'], 'MAINTAI...   \n",
      "\n",
      "                                          Linguagens  \\\n",
      "0  [TypeScript 32.2%, C# 25.2%, HTML 18.6%, JavaS...   \n",
      "\n",
      "                                      Repo link                Repositório  \\\n",
      "0  https://github.com/goomoopunch/BiggityBudget  goomoopunch/BiggityBudget   \n",
      "\n",
      "                        _id  \n",
      "0  5a2b73938b062b10d17ac2e4  \n"
     ]
    },
    {
     "data": {
      "text/plain": [
       "'\\nfor post in dockers.find():\\n    pprint.pprint(post)\\n    break\\n'"
      ]
     },
     "execution_count": 40,
     "metadata": {},
     "output_type": "execute_result"
    }
   ],
   "source": [
    "cursor = dockers.find()\n",
    "# Expand the cursor and construct the DataFrame\n",
    "df =  pd.DataFrame(list(cursor))\n",
    "print(df.head(1))\n",
    "'''\n",
    "for post in dockers.find():\n",
    "    pprint.pprint(post)\n",
    "    break\n",
    "'''"
   ]
  },
  {
   "cell_type": "code",
   "execution_count": null,
   "metadata": {
    "collapsed": true
   },
   "outputs": [],
   "source": []
  }
 ],
 "metadata": {
  "kernelspec": {
   "display_name": "Python 3",
   "language": "python",
   "name": "python3"
  },
  "language_info": {
   "codemirror_mode": {
    "name": "ipython",
    "version": 3
   },
   "file_extension": ".py",
   "mimetype": "text/x-python",
   "name": "python",
   "nbconvert_exporter": "python",
   "pygments_lexer": "ipython3",
   "version": "3.6.1"
  }
 },
 "nbformat": 4,
 "nbformat_minor": 2
}
