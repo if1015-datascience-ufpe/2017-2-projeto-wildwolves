{
 "cells": [
  {
   "cell_type": "code",
   "execution_count": 1,
   "metadata": {
    "collapsed": true
   },
   "outputs": [],
   "source": [
    "import pandas as pd\n",
    "import numpy as np\n",
    "from bs4 import BeautifulSoup\n",
    "import requests as rq\n",
    "from github import Github, GithubException\n",
    "import time\n",
    "from shutil import copyfile\n",
    "from pymongo import MongoClient\n",
    "import re\n",
    "from bson.objectid import ObjectId\n",
    "import pprint"
   ]
  },
  {
   "cell_type": "code",
   "execution_count": 2,
   "metadata": {
    "collapsed": true
   },
   "outputs": [],
   "source": [
    "client = MongoClient()\n",
    "db = client['repos-database']\n",
    "dockers = db['docker_repos']"
   ]
  },
  {
   "cell_type": "code",
   "execution_count": 3,
   "metadata": {
    "collapsed": true
   },
   "outputs": [],
   "source": [
    "cursor = dockers.find()\n",
    "# Expand the cursor and construct the DataFrame\n",
    "df =  pd.DataFrame(list(cursor))"
   ]
  },
  {
   "cell_type": "code",
   "execution_count": 4,
   "metadata": {
    "collapsed": true
   },
   "outputs": [],
   "source": [
    "linguagens = []\n",
    "dicLinguagens = []\n",
    "for i in df.itertuples():\n",
    "    lang = i.Linguagens\n",
    "    if (lang == None):\n",
    "        continue\n",
    "    else:\n",
    "        lang = lang[0].split(\" \")[0].lower()\n",
    "        if(lang in linguagens):\n",
    "            index = linguagens.index(lang)\n",
    "            dicLinguagens[index]['qtd'] = dicLinguagens[index]['qtd'] + 1\n",
    "        else:\n",
    "            linguagens.append(lang)\n",
    "            dicLinguagens.append({\"nome\":lang, \"qtd\": 1}) "
   ]
  },
  {
   "cell_type": "code",
   "execution_count": 5,
   "metadata": {
    "collapsed": true
   },
   "outputs": [],
   "source": [
    "dataLinguagens = pd.DataFrame(dicLinguagens,columns=['nome','qtd'])\n",
    "#dataLinguagens.sort_values('qtd',ascending=False)"
   ]
  },
  {
   "cell_type": "code",
   "execution_count": 6,
   "metadata": {
    "collapsed": true
   },
   "outputs": [],
   "source": [
    "imagens = []\n",
    "dicImagens = []\n",
    "for i in df.itertuples():\n",
    "    image = i.Dockerfile\n",
    "    if (image == None or len(image['FROM']) == 0 ):\n",
    "        continue\n",
    "    else:\n",
    "        image = image['FROM']\n",
    "        image = image[0].strip()\n",
    "        if(image in imagens):\n",
    "            index = imagens.index(image)\n",
    "            dicImagens[index]['qtd'] = dicImagens[index]['qtd'] + 1\n",
    "        else:\n",
    "            imagens.append(image)\n",
    "            dicImagens.append({\"nome\":image, \"qtd\": 1}) "
   ]
  },
  {
   "cell_type": "code",
   "execution_count": 17,
   "metadata": {},
   "outputs": [],
   "source": [
    "dataImagens = pd.DataFrame(dicImagens,columns=['nome','qtd'])\n",
    "#dataImagens.sort_values('qtd',ascending=False)"
   ]
  },
  {
   "cell_type": "code",
   "execution_count": 38,
   "metadata": {},
   "outputs": [],
   "source": [
    "portas = []\n",
    "dicPortas = []\n",
    "def verifyPort(ports):\n",
    "    for port in ports:\n",
    "        if(len(str(port).split(\" \")) > 1 or len(str(port).split(\":\")) > 1 or len(str(port).split(\"/\")) > 1):\n",
    "            continue\n",
    "        else:\n",
    "            if(port in portas):\n",
    "                port = str(port).strip()\n",
    "                index = portas.index(port)\n",
    "                dicPortas[index]['qtd'] = dicPortas[index]['qtd'] + 1\n",
    "            else:\n",
    "                portas.append(port)\n",
    "                dicPortas.append({\"nome\":port, \"qtd\": 1})\n",
    "            \n",
    "for i in df.itertuples():\n",
    "    port = i.Dockerfile\n",
    "    if (port == None or len(port['EXPOSE']) == 0 ):\n",
    "        continue\n",
    "    else:\n",
    "        port = port['EXPOSE']\n",
    "        verifyPort(port)"
   ]
  },
  {
   "cell_type": "code",
   "execution_count": 40,
   "metadata": {},
   "outputs": [],
   "source": [
    "dataPortas = pd.DataFrame(dicPortas,columns=['nome','qtd'])\n",
    "#dataPortas.sort_values('qtd',ascending=False)"
   ]
  }
 ],
 "metadata": {
  "kernelspec": {
   "display_name": "Python 3",
   "language": "python",
   "name": "python3"
  },
  "language_info": {
   "codemirror_mode": {
    "name": "ipython",
    "version": 3
   },
   "file_extension": ".py",
   "mimetype": "text/x-python",
   "name": "python",
   "nbconvert_exporter": "python",
   "pygments_lexer": "ipython3",
   "version": "3.6.1"
  }
 },
 "nbformat": 4,
 "nbformat_minor": 2
}
